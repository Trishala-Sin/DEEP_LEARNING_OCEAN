{
 "cells": [
  {
   "cell_type": "markdown",
   "metadata": {},
   "source": [
    "## ANN are typically organised in layers as follows  :\n",
    "\n",
    "* 1) dense or fully connected layer \n",
    "* 2) Convolutional layer (mostly used for Image Data)\n",
    "* 3) Pooling Layers \n",
    "* 4) Recurrent Layers \n",
    "* 5) Normalization layer (mostly used for Time series data)\n",
    "* 6) Many others \n",
    "\n",
    "Typical Network consists of : \n",
    "\n",
    "* input layer \n",
    "* hidden layers \n",
    "* output layer \n",
    "\n",
    "Weight assigned to each input between (0-1) and weighted sum of these input(previous layer neurons) \n",
    "for same neuron ( to each single nextlayer neuron) computed is passed \n",
    "to an activation function that transform output in (0-1)\n",
    "output layers neuron could represents catagories. "
   ]
  },
  {
   "cell_type": "code",
   "execution_count": null,
   "metadata": {},
   "outputs": [
    {
     "name": "stderr",
     "output_type": "stream",
     "text": [
      "Using TensorFlow backend.\n"
     ]
    }
   ],
   "source": [
    "import warnings\n",
    "from keras.models import Sequential\n",
    "from keras.layers import Dense, Activation\n",
    "\n",
    "warnings.filterwarnings(\"ignore\")\n"
   ]
  },
  {
   "cell_type": "code",
   "execution_count": 4,
   "metadata": {},
   "outputs": [],
   "source": [
    "\n",
    "model = Sequential([\n",
    "Dense(5,input_shape=(3,),activation = 'relu'),\n",
    "Dense(2, activation = 'softmax'),])"
   ]
  },
  {
   "cell_type": "code",
   "execution_count": null,
   "metadata": {},
   "outputs": [],
   "source": []
  }
 ],
 "metadata": {
  "kernelspec": {
   "display_name": "Python 3",
   "language": "python",
   "name": "python3"
  },
  "language_info": {
   "codemirror_mode": {
    "name": "ipython",
    "version": 3
   },
   "file_extension": ".py",
   "mimetype": "text/x-python",
   "name": "python",
   "nbconvert_exporter": "python",
   "pygments_lexer": "ipython3",
   "version": "3.6.10"
  }
 },
 "nbformat": 4,
 "nbformat_minor": 2
}
